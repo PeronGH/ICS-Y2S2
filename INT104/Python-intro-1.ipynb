{
 "cells": [
  {
   "cell_type": "markdown",
   "id": "ead23cc7",
   "metadata": {},
   "source": [
    "# 1. Introduction\n",
    "\n",
    "Thank you for taking this course. Its purpose is to introduce you to the fundamentals of computer programming and to build your confidence in self-study. For the duration of the course we will be covering general programming concepts and structures which are not exclusive to Python and exist in other programming languages as well. \n",
    "\n",
    "## 1.1. Why Python\n",
    "For many people, the Python programming lanugage has strong appeal. Since it first appeared in 1991, Python has become one of the most important programming languages today. Among interpreted languages, for various historical and cultural reasons, Python has developed a large and active scientific computing and data analysis community. In the last 10 years, Python has gone from bleeding-edge and experimental to one of the most important languages for data science machine learning and general software development in academia and industry.\n",
    "\n",
    "Python offers a lot of versatile tools for data science which are added in the form of packages. Some of the most popular ones are NumPy, pandas, matplotlib, SciPy, scikit-learn, statsmodels and others. For this course though, we will be covering the basic foundation of Python and some most popular packages named NumPy and pandas.\n",
    "## 1.2. Course structure\n",
    "This is a taught course but the notebooks can also be studied independently. During teaching particular examples will be given directly out of the notebooks. You are expected to follow the instructor whilist running all code blocks by yourself.\n",
    "The course will last for about 1h. Each of the sessions will be split into teaching and exercises at the end.\n",
    "\n",
    "## 1.3. Ask\n",
    "**The art and science of asking questions is the source of all knowledge.**\n",
    "\n",
    "-- Thomas Berger\n",
    "\n",
    "This course should be more of a conversation, therefore do not hesitate to ask for questions. The demonstrators are there to help you during exercises as well. Furthermore you can also ask other people within the course for help and advice!\n",
    "\n",
    "## 1.4. Failure\n",
    "\n",
    "Coding is all about failure and learning.\n",
    "\n",
    "Often you would have to fail several times before making something work but after that you can redo it immediately. That being said, do not be afraid to experiment and fail! Often a useful error message will be printed which will help you solve the issue.\n"
   ]
  },
  {
   "cell_type": "markdown",
   "id": "186966c2",
   "metadata": {},
   "source": [
    "# 2. Environment\n",
    "For the duration of this session we will be using Jupyter Notebooks. They are simply a web-based interface for Python which can also have instructions inbetween code blocks.\n",
    "\n",
    "To try it out let's write our first line of Python code!\n",
    "Simply select the code snippet below and click the `Run` button in the toolbar near the top of the window."
   ]
  },
  {
   "cell_type": "code",
   "execution_count": 2,
   "id": "37e14aab",
   "metadata": {
    "pycharm": {
     "is_executing": true
    }
   },
   "outputs": [
    {
     "name": "stdout",
     "output_type": "stream",
     "text": [
      "Hello world\n"
     ]
    }
   ],
   "source": [
    "print(\"Hello world\")"
   ]
  },
  {
   "cell_type": "markdown",
   "id": "c7a2d742",
   "metadata": {},
   "source": [
    "To save yourself a couple of clicks you can also press `Shift + Enter` after highlighting a code cell and it will execute. Try it out."
   ]
  },
  {
   "cell_type": "code",
   "execution_count": 3,
   "id": "0f26bd05",
   "metadata": {},
   "outputs": [
    {
     "name": "stdout",
     "output_type": "stream",
     "text": [
      "The Zen of Python, by Tim Peters\n",
      "\n",
      "Beautiful is better than ugly.\n",
      "Explicit is better than implicit.\n",
      "Simple is better than complex.\n",
      "Complex is better than complicated.\n",
      "Flat is better than nested.\n",
      "Sparse is better than dense.\n",
      "Readability counts.\n",
      "Special cases aren't special enough to break the rules.\n",
      "Although practicality beats purity.\n",
      "Errors should never pass silently.\n",
      "Unless explicitly silenced.\n",
      "In the face of ambiguity, refuse the temptation to guess.\n",
      "There should be one-- and preferably only one --obvious way to do it.\n",
      "Although that way may not be obvious at first unless you're Dutch.\n",
      "Now is better than never.\n",
      "Although never is often better than *right* now.\n",
      "If the implementation is hard to explain, it's a bad idea.\n",
      "If the implementation is easy to explain, it may be a good idea.\n",
      "Namespaces are one honking great idea -- let's do more of those!\n"
     ]
    }
   ],
   "source": [
    "import this"
   ]
  },
  {
   "cell_type": "markdown",
   "id": "170f21a3",
   "metadata": {},
   "source": [
    "# 3. Tips\n",
    "\n",
    "Jupyther notebooks go to great lenghts to make Python look less intimidating and they provide extra tools to get you up and coding faster.\n",
    "## 3.1 Tab completion\n",
    "One of the major benefits of Jupyter - when you start writing something you can press `Tab` before finishing it and the environemnt will type in the rest of it or propose various completions in a drop-down menu."
   ]
  },
  {
   "cell_type": "code",
   "execution_count": 4,
   "id": "a8de4ae3",
   "metadata": {},
   "outputs": [],
   "source": [
    "firstString = \"Hello world\""
   ]
  },
  {
   "cell_type": "markdown",
   "id": "b40cdfe1",
   "metadata": {},
   "source": [
    "Run the block above, start typing `firstString` in the block below and press `Tab` at some point before you finish writing it. It should complete it automatically."
   ]
  },
  {
   "cell_type": "code",
   "execution_count": 5,
   "id": "1f7b3449",
   "metadata": {},
   "outputs": [
    {
     "data": {
      "text/plain": [
       "'Hello world'"
      ]
     },
     "execution_count": 5,
     "metadata": {},
     "output_type": "execute_result"
    }
   ],
   "source": [
    "firstString"
   ]
  },
  {
   "cell_type": "markdown",
   "id": "d9ee73a4",
   "metadata": {},
   "source": [
    "This can also be applied to methods of objects (will be explored later). Using the variable decalared above, in the code block below you can type in `firstString.`, press `Tab` and Jupyter will present you with various methods applicable to a string."
   ]
  },
  {
   "cell_type": "code",
   "execution_count": 6,
   "id": "47be1943",
   "metadata": {},
   "outputs": [
    {
     "ename": "SyntaxError",
     "evalue": "invalid syntax (34626944.py, line 1)",
     "output_type": "error",
     "traceback": [
      "\u001b[1;36m  Cell \u001b[1;32mIn[6], line 1\u001b[1;36m\u001b[0m\n\u001b[1;33m    firstString.\u001b[0m\n\u001b[1;37m                ^\u001b[0m\n\u001b[1;31mSyntaxError\u001b[0m\u001b[1;31m:\u001b[0m invalid syntax\n"
     ]
    }
   ],
   "source": [
    "firstString."
   ]
  },
  {
   "cell_type": "markdown",
   "id": "98ce4684",
   "metadata": {},
   "source": [
    "## 3.2 Introspection\n",
    "Jupyter can provide you with information about every object in its namespace. (Don't worry if you don't know what an object is exactly, everything in Python is an object). This can be done by typing in the name of any object followed by a question mark. Eg. `print?`. Let's try this on the previous declared variable."
   ]
  },
  {
   "cell_type": "code",
   "execution_count": null,
   "id": "ce147deb",
   "metadata": {},
   "outputs": [],
   "source": [
    "firstString?"
   ]
  },
  {
   "cell_type": "code",
   "execution_count": null,
   "id": "5d1fd172",
   "metadata": {},
   "outputs": [],
   "source": [
    "print?"
   ]
  },
  {
   "cell_type": "markdown",
   "id": "70332bf6",
   "metadata": {},
   "source": [
    "## 3.3 Useful operations\n",
    "- **Clearing all output** - `Kernel/Restart & Clear output`\n",
    "- **Deleting a block** - `Edit/Delete Cell`\n",
    "- **Saving a notebook localy** - `File/Download As/Notebook(.ipynb)`\n",
    "- **Closing** - not recommended to close a notebook by closing the window. You should close it from the toolbar `File/Close and Halt`."
   ]
  },
  {
   "cell_type": "markdown",
   "id": "e8224fca",
   "metadata": {},
   "source": [
    "You can add a new cell by clicking the `+` on the toolbar. From the dropdown menu next to it, you can choose the type of block. The most useful ones are `Python` and `Markdown`. This cell is written in Markdown, it is essentailly a simplified markup lanugage. Once you are finished editing a text cell, press `Shift + Enter` to return it to a readable state.\n"
   ]
  },
  {
   "cell_type": "markdown",
   "id": "8b51191c",
   "metadata": {},
   "source": [
    "# 4. Python is interpreted\n",
    "Which means that the statements we type are interpreted and executed immediately.\n",
    "\n",
    "....or in other words, we can use it as a calculator!\n",
    "\n",
    "Given that the distance between Edinburgh and London is 403 miles, can we convert that to km?"
   ]
  },
  {
   "cell_type": "code",
   "execution_count": null,
   "id": "8c779589",
   "metadata": {},
   "outputs": [],
   "source": [
    "403 * 1.60934"
   ]
  },
  {
   "cell_type": "markdown",
   "id": "ee9f7a1d",
   "metadata": {},
   "source": [
    "Typing in numbers gets tedious quickly, how can we get around that?\n",
    "\n",
    "## 4.1 Variables\n",
    "are human-readable containers that can store numbers, characters, strings or any other value.\n",
    "\n",
    "Let's try to calculate the distance between Edinburgh and London in km again:"
   ]
  },
  {
   "cell_type": "code",
   "execution_count": null,
   "id": "d1218ff9",
   "metadata": {},
   "outputs": [],
   "source": [
    "distanceToLondonMiles = 403\n",
    "mileToKm = 1.60934\n",
    "distanceToLondonKm = distanceToLondonMiles * mileToKm\n",
    "distanceToLondonKm"
   ]
  },
  {
   "cell_type": "markdown",
   "id": "d470d969",
   "metadata": {},
   "source": [
    "That's neat! Now we can reuse the variable `mileToKm` for other conversions without having to type it in again!\n",
    "\n",
    "Can we do the same conversion for a marathon, while keeping some of the variables above?"
   ]
  },
  {
   "cell_type": "code",
   "execution_count": null,
   "id": "07dc3856",
   "metadata": {},
   "outputs": [],
   "source": [
    "marathonDistanceMiles = 26.219\n",
    "marathonDistanceKm = marathonDistanceMiles * mileToKm\n",
    "print(marathonDistanceKm)"
   ]
  },
  {
   "cell_type": "markdown",
   "id": "6e52bc26",
   "metadata": {},
   "source": [
    "Note that you can't add whitespaces to variable names, which means that we need combine multiple words into one. Possiblities:\n",
    "\n",
    "```python\n",
    "allbundledtogether = \"not readable\"\n",
    "CamelCase = \"readable\"\n",
    "under_score = \"readable\"\n",
    "```"
   ]
  },
  {
   "cell_type": "markdown",
   "id": "9fe26493",
   "metadata": {},
   "source": [
    "## 4.2 Types\n",
    "\n",
    "The values in these containers are stored as particular types. The important ones to remember are:\n",
    "\n",
    "| Type | Declaration | Example | Usage |\n",
    "|----|----|----|----|\n",
    "| Integer  | int | `x = 124` | Numbers without decimal point |\n",
    "| Float  | float | `x = 124.56` | Numbers with decimcal point |\n",
    "| String  | str | `x = \"Hello world\"` | Used for text |\n",
    "| Boolean  | bool | `x = True` or `x = False` | Used for conditional statements |\n",
    "| NoneType  | None | `x = None` | Whenever you want an empty variable |\n",
    "\n",
    "How does all of that actually affect us? Well, let's try to add an Integer and a String:\n"
   ]
  },
  {
   "cell_type": "code",
   "execution_count": null,
   "id": "3040f634",
   "metadata": {
    "scrolled": true
   },
   "outputs": [],
   "source": [
    "x = 10    # This is an integer\n",
    "y = \"20\"  # This is a string\n",
    "x + y"
   ]
  },
  {
   "cell_type": "markdown",
   "id": "ffe2f9c2",
   "metadata": {},
   "source": [
    "Whoops! Seems like we managed to break Python.\n",
    "\n",
    "Luckily, Python offers an easy way to convert one variable to another. Let's try our example again."
   ]
  },
  {
   "cell_type": "code",
   "execution_count": null,
   "id": "20679630",
   "metadata": {},
   "outputs": [],
   "source": [
    "x = 10    # This is an integer\n",
    "y = \"20\"  # This is a string\n",
    "x + int(y)"
   ]
  },
  {
   "cell_type": "markdown",
   "id": "3c8d7fff",
   "metadata": {},
   "source": [
    "We just converted the String variable y to an Integer! Actually, we can convert any type of variable to another type in a similar manner! For example, we can convert `y` back to a String with `str(y)`.\n",
    "\n",
    "If you are ever unsure of what type a variable you can use the `type()` function to find out."
   ]
  },
  {
   "cell_type": "code",
   "execution_count": null,
   "id": "0c13060f",
   "metadata": {},
   "outputs": [],
   "source": [
    "type(mileToKm)"
   ]
  },
  {
   "cell_type": "markdown",
   "id": "38fde9e5",
   "metadata": {},
   "source": [
    "What if we make x and y Strings and add them up?"
   ]
  },
  {
   "cell_type": "code",
   "execution_count": null,
   "id": "9f8a33f0",
   "metadata": {},
   "outputs": [],
   "source": [
    "x = \"10\"\n",
    "y = \"20\"\n",
    "x + y"
   ]
  },
  {
   "cell_type": "markdown",
   "id": "d191de87",
   "metadata": {},
   "source": [
    "That doesn't seem arithmetically correct but is correct in the world of Python. We effectively concatinated 2 strings!\n",
    "\n",
    "Notice how the `+` operator behaves differently depending on the type of the variables. This is an imporant principle which spans across the whole Python language!"
   ]
  },
  {
   "cell_type": "markdown",
   "id": "7da44276",
   "metadata": {},
   "source": [
    "### Exercise\n",
    "1. Create a variable `x` and assign the value `4` to it.\n",
    "2. Create another variable `y` and assign to it the value of `x`\n",
    "3. Change the value of `x` to be `\"four\"`\n",
    "\n",
    "Confirm your results by typing `x,y` at the **end** of the code cell. This will print out the values of the 2 variables."
   ]
  },
  {
   "cell_type": "code",
   "execution_count": 1,
   "id": "df1d4ac2",
   "metadata": {},
   "outputs": [
    {
     "data": {
      "text/plain": [
       "('four', 4)"
      ]
     },
     "execution_count": 1,
     "metadata": {},
     "output_type": "execute_result"
    }
   ],
   "source": [
    "y = x = 4\n",
    "x = 'four'\n",
    "x, y"
   ]
  },
  {
   "cell_type": "markdown",
   "id": "e5c2270d",
   "metadata": {},
   "source": [
    "## 4.3 Strings\n",
    "Strings are very powerful in Python and offer a lot of functionality. For one, they can be added and multiplied. That sounds a bit absurd, how can you add and multiply words? Well, they can and actually they can do much more."
   ]
  },
  {
   "cell_type": "code",
   "execution_count": null,
   "id": "f4071b10",
   "metadata": {},
   "outputs": [],
   "source": [
    "x = \"Python\"\n",
    "y = \"rocks\"\n",
    "x + \" \" + y"
   ]
  },
  {
   "cell_type": "code",
   "execution_count": null,
   "id": "2b2ded72",
   "metadata": {},
   "outputs": [],
   "source": [
    "x = \"This can be\"\n",
    "y = \"repeated \"\n",
    "x + \" \" + y * 3"
   ]
  },
  {
   "cell_type": "markdown",
   "id": "e818ded9",
   "metadata": {},
   "source": [
    "Strings also have som of built-in functions which alter them directly. Here are some of them:"
   ]
  },
  {
   "cell_type": "code",
   "execution_count": null,
   "id": "55994dc4",
   "metadata": {},
   "outputs": [],
   "source": [
    "x = \"Edinburgh\"\n",
    "x = x.upper()\n",
    "\n",
    "y = \"University Of \"\n",
    "y = y.lower()\n",
    "\n",
    "y + x"
   ]
  },
  {
   "cell_type": "markdown",
   "id": "20c6604a",
   "metadata": {},
   "source": [
    "To find out its full capabilities you can use *Tab Completion*. Simply type out the string variable followed by a `.` and then press the **Tab character** on your keyboard. A dropdown menu should appear showing you all of the methods of strings.\n",
    "\n",
    "This Tab completion functionality extends to everything else in Python (eg. variables, functions, methods), however, it our case it is a feature provided by Jupyter Notebooks."
   ]
  },
  {
   "cell_type": "code",
   "execution_count": null,
   "id": "0fa73cff",
   "metadata": {},
   "outputs": [],
   "source": [
    "x."
   ]
  },
  {
   "cell_type": "markdown",
   "id": "0aaf16d7",
   "metadata": {},
   "source": [
    "but what if we want to include numbers in strings? Surely we can keep a number stored as a String (ie. `x = \"20\"`) but we can't use that number for actual calculations. \n",
    "\n",
    "The right way to do this is to keep numbers represented by numbers (ie. integers, floats, etc.) and only convert them to Strings whenever needed. To show how to do that let us compute the answer to the universe."
   ]
  },
  {
   "cell_type": "code",
   "execution_count": null,
   "id": "40780038",
   "metadata": {},
   "outputs": [],
   "source": [
    "x = 6\n",
    "x = ( x * 441 ) // 63\n",
    "\"The answe to Life, the Universe and Everything is \" + str(x)"
   ]
  },
  {
   "cell_type": "markdown",
   "id": "448c4ea0",
   "metadata": {},
   "source": [
    "### Exercise\n",
    "The code below assigns the current day, month and year to variables (you don't need to worry about how this works for now). Complete the block with a string stating `\"Today is the Dth day of the Mth month of the Yth year\"`, where `D`, `M`, `Y` are given by the variables below."
   ]
  },
  {
   "cell_type": "code",
   "execution_count": 4,
   "id": "67e0c190",
   "metadata": {},
   "outputs": [
    {
     "data": {
      "text/plain": [
       "'Today is the 28th Day of the 2th Month of the 2023th Year'"
      ]
     },
     "execution_count": 4,
     "metadata": {},
     "output_type": "execute_result"
    }
   ],
   "source": [
    "from datetime import date\n",
    " \n",
    "f\"Today is the {date.today().day}th Day of the {date.today().month}th Month of the {date.today().year}th Year\""
   ]
  }
 ],
 "metadata": {
  "kernelspec": {
   "display_name": "Python 3 (ipykernel)",
   "language": "python",
   "name": "python3"
  },
  "language_info": {
   "codemirror_mode": {
    "name": "ipython",
    "version": 3
   },
   "file_extension": ".py",
   "mimetype": "text/x-python",
   "name": "python",
   "nbconvert_exporter": "python",
   "pygments_lexer": "ipython3",
   "version": "3.8.16"
  },
  "vscode": {
   "interpreter": {
    "hash": "70620ca940e9b0ba65c9ea2cb274b1eb89e34cd87f790324a9871f60d6f2153a"
   }
  }
 },
 "nbformat": 4,
 "nbformat_minor": 5
}
