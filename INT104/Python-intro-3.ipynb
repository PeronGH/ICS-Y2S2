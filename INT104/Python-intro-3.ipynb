{
 "cells": [
  {
   "cell_type": "markdown",
   "id": "b19aff73",
   "metadata": {},
   "source": [
    "# 1. Operators\n",
    "\n",
    "## 1.1 Arithmetical operators\n",
    "\n",
    "Python supports a range of different arithmetical operators:\n",
    "\n",
    "| Symbol | Task Performed | Example | Result\n",
    "|----|---|---|---|\n",
    "| +  | Addition | 4 + 3 | 7 |\n",
    "| -  | Subtraction | 4 - 3 | 1 |\n",
    "| *  | Multiplication | 4 * 3 | 12 |\n",
    "| **  | Power of | 7 ** 2 | 49 |\n",
    "| /  | Division | 7 / 2 | 3.5 |\n",
    "| //  | Floor division | 7 // 2 | 3 |\n",
    "| %  | Mod | 7 % 2 | 1 |\n",
    "\n",
    "Make note of how the different division operators work."
   ]
  },
  {
   "cell_type": "code",
   "execution_count": 1,
   "id": "176a4b01",
   "metadata": {},
   "outputs": [
    {
     "data": {
      "text/plain": [
       "64.0"
      ]
     },
     "execution_count": 1,
     "metadata": {},
     "output_type": "execute_result"
    }
   ],
   "source": [
    "16 ** 2 / 4"
   ]
  },
  {
   "cell_type": "markdown",
   "id": "ff856b55",
   "metadata": {},
   "source": [
    "What happens if we have a lot of operators on the same line? It becomes difficult to read and increases your chances of making an error. Let's try to calculate `7 ** 2` again but this time represent 7 as 4 + 3."
   ]
  },
  {
   "cell_type": "code",
   "execution_count": 2,
   "id": "4c4b5e77",
   "metadata": {},
   "outputs": [
    {
     "data": {
      "text/plain": [
       "13"
      ]
     },
     "execution_count": 2,
     "metadata": {},
     "output_type": "execute_result"
    }
   ],
   "source": [
    "4 + 3 ** 2"
   ]
  },
  {
   "cell_type": "markdown",
   "id": "19be4fc8",
   "metadata": {},
   "source": [
    "That doesn't seem correct. Just like in actual Mathematics, we can put round bracket when calculating. \n",
    "\n",
    "**Operator precendence** in Python works the same way as it does in Mathematics!"
   ]
  },
  {
   "cell_type": "code",
   "execution_count": 3,
   "id": "d6b6e949",
   "metadata": {},
   "outputs": [
    {
     "data": {
      "text/plain": [
       "49"
      ]
     },
     "execution_count": 3,
     "metadata": {},
     "output_type": "execute_result"
    }
   ],
   "source": [
    "(4 + 3) ** 2"
   ]
  },
  {
   "cell_type": "markdown",
   "id": "abc4190b",
   "metadata": {},
   "source": [
    "### Exercise_1\n",
    "Perform the followig calculations:\n",
    "\n",
    "1. Add 2 to 4\n",
    "2. Multiply it by 441\n",
    "3. Divide it by 63\n",
    "\n",
    "and find the whole-number part of the result.\n",
    "\n",
    "_(Hint: you may at some point find floor division useful)_"
   ]
  },
  {
   "cell_type": "code",
   "execution_count": 4,
   "id": "ba8600cd",
   "metadata": {},
   "outputs": [
    {
     "data": {
      "text/plain": [
       "42"
      ]
     },
     "execution_count": 4,
     "metadata": {},
     "output_type": "execute_result"
    }
   ],
   "source": [
    "(4 + 2) * 441 // 63\n"
   ]
  },
  {
   "cell_type": "markdown",
   "id": "352021c6",
   "metadata": {},
   "source": [
    "## 1.2 Comparison operators\n",
    "It would be useful if we can compare values while using them. To do that we can use **comparison operators**:\n",
    "\n",
    "| Operator | Output | \n",
    "|----|---|\n",
    "| x == y | True if x and y have the same value |\n",
    "| x != y | True if x and y don't have the same value |\n",
    "| x < y | True if x is less than y |\n",
    "| x > y | True if x is more than y |\n",
    "| x <= y | True if x is less than or equal to y |\n",
    "| x >= y | True if x is more than or equal to y |\n",
    "\n",
    "Make note that these operators return Boolean values (ie. `True` or `False`). Naturally, if the operations don't return `True`, they will return `False`. Let's try some of them out:"
   ]
  },
  {
   "cell_type": "code",
   "execution_count": 5,
   "id": "8b74e909",
   "metadata": {},
   "outputs": [
    {
     "data": {
      "text/plain": [
       "True"
      ]
     },
     "execution_count": 5,
     "metadata": {},
     "output_type": "execute_result"
    }
   ],
   "source": [
    "x = 5       # assign 5 to the variable x\n",
    "x == 5      # check if value of x is 5"
   ]
  },
  {
   "cell_type": "markdown",
   "id": "fc46df36",
   "metadata": {},
   "source": [
    "*Note that `==` is not the same as `=`*"
   ]
  },
  {
   "cell_type": "code",
   "execution_count": 6,
   "id": "9e61e4b3",
   "metadata": {},
   "outputs": [
    {
     "data": {
      "text/plain": [
       "False"
      ]
     },
     "execution_count": 6,
     "metadata": {},
     "output_type": "execute_result"
    }
   ],
   "source": [
    "x > 7"
   ]
  },
  {
   "cell_type": "markdown",
   "id": "cda592cd",
   "metadata": {},
   "source": [
    "## 1.3 Logical operators\n",
    "That is nice! How can we extend this to link multiple combinations like that? Luckily, Python offers the usual set of **logical operations**:\n",
    "\n",
    "| Operation | Result | \n",
    "|----|---|\n",
    "| x or y | True if at least on is True |\n",
    "| x and y  | True only if both are True |\n",
    "| not x | True only if x is False |\n",
    "\n",
    "Here are some examples of them:\n",
    "```\n",
    "not True  is False\n",
    "not False is True\n",
    "\n",
    "True  and True  is True\n",
    "True  and False is False\n",
    "False and False is False\n",
    "\n",
    "False or False is False\n",
    "True  or True  is True\n",
    "True  or False is True\n",
    "\n",
    "```\n",
    "\n",
    "With this knowledge, we can now chain different boolean operations. The simplest of which is to check if a number is within a range."
   ]
  },
  {
   "cell_type": "code",
   "execution_count": 7,
   "id": "eaab731f",
   "metadata": {},
   "outputs": [
    {
     "data": {
      "text/plain": [
       "True"
      ]
     },
     "execution_count": 7,
     "metadata": {},
     "output_type": "execute_result"
    }
   ],
   "source": [
    "x = 14\n",
    "# check if x is within the range 10..20\n",
    "\n",
    "( x > 10 ) and ( x < 20)"
   ]
  },
  {
   "cell_type": "markdown",
   "id": "39dccfa9",
   "metadata": {},
   "source": [
    "As seen, round brackets are helpful here as well and make the code more readable! That being said, what happens if we have a really complicated boolean logic?"
   ]
  },
  {
   "cell_type": "code",
   "execution_count": 8,
   "id": "4835979a",
   "metadata": {},
   "outputs": [
    {
     "data": {
      "text/plain": [
       "False"
      ]
     },
     "execution_count": 8,
     "metadata": {},
     "output_type": "execute_result"
    }
   ],
   "source": [
    "x = 14\n",
    "y = 42\n",
    "\n",
    "not (( x % 2 == 0 ) and ( y % 3 == 0))"
   ]
  },
  {
   "cell_type": "markdown",
   "id": "df0c193d",
   "metadata": {},
   "source": [
    "and it became a mess...\n",
    "\n",
    "To make it more understandable we can introduce intermediate variables like previously:"
   ]
  },
  {
   "cell_type": "code",
   "execution_count": 9,
   "id": "97cabf23",
   "metadata": {},
   "outputs": [
    {
     "data": {
      "text/plain": [
       "False"
      ]
     },
     "execution_count": 9,
     "metadata": {},
     "output_type": "execute_result"
    }
   ],
   "source": [
    "x = 14\n",
    "y = 42\n",
    "\n",
    "xDivisible = ( x % 2 ) == 0 # check if x is a multiple of 2\n",
    "yDivisible = ( y % 3 ) == 0 # check if y is a multiple of 3\n",
    "\n",
    "not (xDivisible and yDivisible)"
   ]
  },
  {
   "cell_type": "markdown",
   "id": "db153d57",
   "metadata": {},
   "source": [
    "### Exercise_2\n",
    "The code below generates a random number between -50 and 50. Complete the code block using boolean logic to check if `x` lies in the range [0, 10]. (Recall that $x$ in $[a, b]$ means $a \\leq x \\leq b$.)"
   ]
  },
  {
   "cell_type": "code",
   "execution_count": 10,
   "id": "908d5d40",
   "metadata": {},
   "outputs": [
    {
     "name": "stdout",
     "output_type": "stream",
     "text": [
      "-9.735040822812394\n"
     ]
    }
   ],
   "source": [
    "import random\n",
    "x = 100 * random.random() - 50\n",
    "print(x)\n",
    "\n",
    "# Finish this block\n",
    "# one-line way\n",
    "\n",
    "\n",
    "# readable way\n"
   ]
  },
  {
   "cell_type": "markdown",
   "id": "ba9cd29a",
   "metadata": {},
   "source": [
    "# 2. If Else\n",
    "## 2.1 If else\n",
    "Sometimes when you try to close a program it asks you `Do you really want to close me?` with possible answers `Yes` and `No`. That is an if-else statement which a structure similar to:\n",
    "\n",
    "```python\n",
    "if condition:\n",
    "    statement1\n",
    "else:\n",
    "    statement2\n",
    "```\n",
    "\n",
    "Matter of fact, most of computing relies on this simple concept. To explain it in more details: the statement after `if` must evaluate to a Boolean value (`True` or `False`), if it is `True` then we execute the code between the `if` and `else` statements and skip the code after the `else` statement. If the Boolean expression after `if` evaluates to `False` then we skip the code between `if` and `else` and execute only the code after `else`."
   ]
  },
  {
   "cell_type": "code",
   "execution_count": 11,
   "id": "79fd5ee0",
   "metadata": {},
   "outputs": [
    {
     "name": "stdout",
     "output_type": "stream",
     "text": [
      "Executing if\n",
      "Prints regardless of the if-else block\n"
     ]
    }
   ],
   "source": [
    "x = True\n",
    "if x:\n",
    "    print(\"Executing if\")\n",
    "else:\n",
    "    print(\"Executing else\")\n",
    "print(\"Prints regardless of the if-else block\")"
   ]
  },
  {
   "cell_type": "markdown",
   "id": "8535a714",
   "metadata": {},
   "source": [
    "Try changing the value of x to `False`.\n",
    "\n",
    "Notice how the final print statement is always executing? That is because it is outside of the if-else block. Python groups code together based on its indentation - the whitespace characters before the code. All lines of code which are next to each other and have the same indentation are part of the same execution block. You can try adding more print statements to the if-else code above and see the results. \n",
    "\n",
    "Note: Within Jupyter, indentation is 4 whitespaces long. When indenting it is recommended to use the `Tab` key which will simply insert 4 whitespaces.\n",
    "\n",
    "Another thing you might have noticed in the if-else statement above is the `:` character. In Python, it signals the interpreter that you are starting a code block. After you use it, it will expect a new indented block."
   ]
  },
  {
   "cell_type": "markdown",
   "id": "8aa6f55e",
   "metadata": {},
   "source": [
    "\n",
    "## 2.2 elif\n",
    "\n",
    "if-else statements can also be extended with `elif` which as implied combines both else + if = elif. This is useful if you want to have multiple conditions for example:\n",
    "\n",
    "```python\n",
    "if condition1:\n",
    "    condition1 was True\n",
    "elif condition2:\n",
    "    condition1 was False and condition2 was True \n",
    "else:\n",
    "    neither condition1 or condition2 were True\n",
    "```\n",
    "\n",
    "Let us illustrate this in an example. Fill in the value of `age` in the below code block,  consider an amusement park that charges different rates for different age groups:\n",
    "- Admission for anyone under age 4 is free.\n",
    "- Admission for anyone between the ages of 4 and 18 is 5 RMB.\n",
    "- Admission for anyone between the ages of 18 and 65 is 10 RMB.\n",
    "- Admission for anyone older than 65 is 5 RMB.\n",
    "Since any age must fall into one of these four distinct brackets, `elif` is the perfect way to separate out the different age groups.\n"
   ]
  },
  {
   "cell_type": "code",
   "execution_count": 12,
   "id": "af74fe19",
   "metadata": {},
   "outputs": [
    {
     "name": "stdout",
     "output_type": "stream",
     "text": [
      "Your admission cost is 10 RMB.\n"
     ]
    }
   ],
   "source": [
    "age = 20\n",
    "\n",
    "if age < 4:\n",
    "    price = 0\n",
    "elif age < 18:\n",
    "    price = 5\n",
    "elif age < 65:\n",
    "    price = 10\n",
    "else:\n",
    "    price = 5\n",
    "\n",
    "print(\"Your admission cost is \" + str(price) + \" RMB.\")"
   ]
  },
  {
   "cell_type": "markdown",
   "id": "59cdded0",
   "metadata": {},
   "source": [
    "Python does not require an `else` block at the end of an `if-elif` chain. Sometimes an `else` block is useful; sometimes it is clearer to use an additional `elif` statement that catches the specific condition of interest:"
   ]
  },
  {
   "cell_type": "code",
   "execution_count": 13,
   "id": "0a984cd0",
   "metadata": {},
   "outputs": [
    {
     "name": "stdout",
     "output_type": "stream",
     "text": [
      "Your admission cost is None RMB.\n"
     ]
    }
   ],
   "source": [
    "class FakeAge:\n",
    "    def __lt__(self, _):\n",
    "        return False\n",
    "    \n",
    "    def __gt__(self, _):\n",
    "        return False\n",
    "    \n",
    "    def __ge__(self, _):\n",
    "        return False\n",
    "\n",
    "age = FakeAge()\n",
    "price = None\n",
    "\n",
    "if age < 4:\n",
    "    price = 0\n",
    "elif age < 18:\n",
    "    price = 5\n",
    "elif age < 65:\n",
    "    price = 10\n",
    "elif age >= 65:\n",
    "    price = 5\n",
    "\n",
    "print(\"Your admission cost is \" + str(price) + \" RMB.\")"
   ]
  },
  {
   "cell_type": "markdown",
   "id": "37829f50",
   "metadata": {},
   "source": [
    "The extra `elif` block assigns a price of 5 RMB when the person is 65 or older, which is a bit clearer than the general `else` block. With this change, every block of code must pass a specific test in order to be executed."
   ]
  },
  {
   "cell_type": "markdown",
   "id": "cbe8479a",
   "metadata": {},
   "source": [
    "### Exercise_3\n",
    "Below, a random integer `n` within the range 0 to 9 is generated."
   ]
  },
  {
   "cell_type": "code",
   "execution_count": 14,
   "id": "e6332ada",
   "metadata": {},
   "outputs": [],
   "source": [
    "import random\n",
    "n = random.randint(0, 10)"
   ]
  },
  {
   "cell_type": "markdown",
   "id": "f9023517",
   "metadata": {},
   "source": [
    "Fill in a value `guess` for the number `n`. Then, use `if`, `else` and `elif` to test whether your guess was equal to `n`, or too high, or too low, and print out an appropriate message."
   ]
  },
  {
   "cell_type": "code",
   "execution_count": 15,
   "id": "a47d7fd8",
   "metadata": {},
   "outputs": [
    {
     "ename": "SyntaxError",
     "evalue": "invalid syntax (1015132621.py, line 1)",
     "output_type": "error",
     "traceback": [
      "\u001b[0;36m  Cell \u001b[0;32mIn[15], line 1\u001b[0;36m\u001b[0m\n\u001b[0;31m    guess =  # Fill in a guess\u001b[0m\n\u001b[0m             ^\u001b[0m\n\u001b[0;31mSyntaxError\u001b[0m\u001b[0;31m:\u001b[0m invalid syntax\n"
     ]
    }
   ],
   "source": [
    "guess =  # Fill in a guess\n",
    "# [ Write code to test if your guess is correct, \n",
    "# too high, or too low ]\n",
    "\n"
   ]
  },
  {
   "cell_type": "markdown",
   "id": "7f19cc21",
   "metadata": {},
   "source": [
    "### Exercise_4\n",
    "First, assign an integer to a variable. Then write code which checks whether the number in the variable is odd or even. The code cell should output `True` if the number is even and `False` if it is odd. \n",
    "\n",
    "*Hint: how does an even / odd number react differently when divided by 2?*"
   ]
  },
  {
   "cell_type": "code",
   "execution_count": null,
   "id": "768e673a",
   "metadata": {},
   "outputs": [],
   "source": []
  },
  {
   "cell_type": "code",
   "execution_count": null,
   "id": "98c028fb",
   "metadata": {},
   "outputs": [],
   "source": []
  },
  {
   "cell_type": "markdown",
   "id": "52d55183",
   "metadata": {},
   "source": [
    "# 3. Loops\n",
    "So far we have seen lists but are they really useful in comparison to normal variables? By themselves no, but if combined with loops like `for` and `while` lists become one of the most valuable concepts in programming!\n",
    "\n",
    "## 3.1 for\n",
    "Generally useful whenever you want to iterate over a list (or other data structure) of items and apply the same operation to all items within it. In general, `for` loops look like this and have indentation just like if-else statements:\n",
    "\n",
    "```python\n",
    "for item in itemList:\n",
    "    do something to item\n",
    "```\n",
    "\n",
    "For example:"
   ]
  },
  {
   "cell_type": "code",
   "execution_count": null,
   "id": "30fa85d0",
   "metadata": {},
   "outputs": [],
   "source": [
    "fruits = [\"apple\", \"orange\", \"tomato\", \"banana\"]\n",
    "for f in fruits:\n",
    "    print(\"The fruit\", f, \"has index\", fruits.index(f))"
   ]
  },
  {
   "cell_type": "markdown",
   "id": "6e85085c",
   "metadata": {},
   "source": [
    "is much more elegant than writing"
   ]
  },
  {
   "cell_type": "code",
   "execution_count": null,
   "id": "50b34998",
   "metadata": {},
   "outputs": [],
   "source": [
    "fruits = [\"apple\", \"orange\", \"tomato\", \"banana\"]\n",
    "print(\"The fruit\", fruits[0], \"has index\", fruits.index(fruits[0]))\n",
    "print(\"The fruit\", fruits[1], \"has index\", fruits.index(fruits[1]))\n",
    "print(\"The fruit\", fruits[2], \"has index\", fruits.index(fruits[2]))\n",
    "print(\"The fruit\", fruits[3], \"has index\", fruits.index(fruits[3]))"
   ]
  },
  {
   "cell_type": "markdown",
   "id": "aa8b5f59",
   "metadata": {},
   "source": [
    "That can be really powerful!\n",
    "Let us try to find the squared value of numbers 0 to 10."
   ]
  },
  {
   "cell_type": "code",
   "execution_count": null,
   "id": "336614a4",
   "metadata": {},
   "outputs": [],
   "source": [
    "numbers = list(range(10))\n",
    "for num in numbers:\n",
    "    squared = num ** 2\n",
    "    print(num, \"squared is\", squared)"
   ]
  },
  {
   "cell_type": "markdown",
   "id": "51c24353",
   "metadata": {},
   "source": [
    "### Exercise_5\n",
    "Below is a list of names. Use a `for` loop to count the number of times the name Jessica appears in the list. You should get the answer 3."
   ]
  },
  {
   "cell_type": "code",
   "execution_count": null,
   "id": "1ac2517a",
   "metadata": {},
   "outputs": [],
   "source": [
    "names = [\"Jack\", \"James\", \"Jessica\", \"Jacob\", \"Joshua\", \n",
    "         \"Jaxon\", \"Jack\", \"Jamie\", \"Jude\", \"Jessica\", \n",
    "         \"Jackson\", \"James\", \"Jack\", \"Joseph\", \"Julia\", \n",
    "         \"Joshua\", \"John\", \"Josh\", \"Jack\", \"Jacob\", \n",
    "         \"Jake\", \"Jessica\", \"James\", \"Jayden\", \"Jax\"]\n",
    "\n",
    "#Complete this code\n"
   ]
  },
  {
   "cell_type": "markdown",
   "id": "d8ef0db8",
   "metadata": {},
   "source": [
    "## 3.2 while\n",
    "Another useful loop which is a bit less controllable. It executes over and over until its condition becomes false. For example, we can make a loop that executes 5 times and then stops."
   ]
  },
  {
   "cell_type": "code",
   "execution_count": null,
   "id": "31e66cca",
   "metadata": {},
   "outputs": [],
   "source": [
    "n = 0\n",
    "while n < 5:\n",
    "    print(\"Executing while loop\")\n",
    "    n = n + 1\n",
    "\n",
    "print(\"Finished while loop\")"
   ]
  },
  {
   "cell_type": "markdown",
   "id": "bea82ab8",
   "metadata": {},
   "source": [
    "## 3.3 break\n",
    "Not a loop but extremely useful within loops! As implied `break` literally breaks the loop and forces the program to go out of it. We can redo our `while` loop example using `break`."
   ]
  },
  {
   "cell_type": "code",
   "execution_count": null,
   "id": "d3fd33ff",
   "metadata": {},
   "outputs": [],
   "source": [
    "n = 0\n",
    "while True:  # execute indefinitely\n",
    "    print(\"Executing while loop\")\n",
    "    \n",
    "    if n == 5:  # stop loop if n is 5\n",
    "        break\n",
    "    \n",
    "    n = n + 1\n",
    "\n",
    "print(\"Finished while loop\")"
   ]
  },
  {
   "cell_type": "markdown",
   "id": "9f4666d8",
   "metadata": {},
   "source": [
    "## 3.4 Continue\n",
    "Rather than breaking out of a loop entirely without executing the rest of its code, you can use the `continue` statement to return to the beginning of the loop based on the result of a conditional test. For example, consider a loop that counts from 1 to 10 but prints only the odd numbers in that range:"
   ]
  },
  {
   "cell_type": "code",
   "execution_count": null,
   "id": "058879b6",
   "metadata": {},
   "outputs": [],
   "source": [
    "num = 0\n",
    "while num < 10:\n",
    "    num = num + 1\n",
    "    if num % 2 == 0:\n",
    "        continue\n",
    "    print(num)"
   ]
  },
  {
   "cell_type": "markdown",
   "id": "5ee1454e",
   "metadata": {},
   "source": [
    "### Exercise_6\n",
    "In the code cell below, type in a value for `n` which is an integer between 0 and 9. Then, use a `while` loop and the function `random.randint(0, 10)` to repeatedly generate random numbers between 0 and 9, until you generate `n`. Keep a count of how many tries it takes and print this number at the end."
   ]
  },
  {
   "cell_type": "code",
   "execution_count": null,
   "id": "9eafa763",
   "metadata": {},
   "outputs": [],
   "source": [
    "# [ Write code to keep generating random numbers until you generate n. ]\n",
    "import random\n",
    "n =  # Your value of n\n"
   ]
  },
  {
   "cell_type": "code",
   "execution_count": null,
   "id": "3d23696c",
   "metadata": {},
   "outputs": [],
   "source": []
  }
 ],
 "metadata": {
  "kernelspec": {
   "display_name": "Python 3 (ipykernel)",
   "language": "python",
   "name": "python3"
  },
  "language_info": {
   "codemirror_mode": {
    "name": "ipython",
    "version": 3
   },
   "file_extension": ".py",
   "mimetype": "text/x-python",
   "name": "python",
   "nbconvert_exporter": "python",
   "pygments_lexer": "ipython3",
   "version": "3.9.16"
  }
 },
 "nbformat": 4,
 "nbformat_minor": 5
}
