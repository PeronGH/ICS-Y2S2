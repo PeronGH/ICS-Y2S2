{
 "cells": [
  {
   "attachments": {},
   "cell_type": "markdown",
   "metadata": {},
   "source": [
    "## Searching Algorithms"
   ]
  },
  {
   "attachments": {},
   "cell_type": "markdown",
   "metadata": {},
   "source": [
    "### Searching for a Value"
   ]
  },
  {
   "attachments": {},
   "cell_type": "markdown",
   "metadata": {},
   "source": [
    "#### Linear Search\n",
    "\n",
    "Time complexity: O(n)"
   ]
  },
  {
   "cell_type": "code",
   "execution_count": 2,
   "metadata": {},
   "outputs": [
    {
     "data": {
      "text/plain": [
       "2"
      ]
     },
     "execution_count": 2,
     "metadata": {},
     "output_type": "execute_result"
    }
   ],
   "source": [
    "def linear_search(l: list, value):\n",
    "    for i in range(len(l)):\n",
    "        if l[i] == value:\n",
    "            return i\n",
    "    return -1\n",
    "\n",
    "\n",
    "linear_search([1, 2, 3, 4, 5], 3)"
   ]
  },
  {
   "attachments": {},
   "cell_type": "markdown",
   "metadata": {},
   "source": [
    "#### Binary Search\n",
    "\n",
    "Time complexity: O(log n)"
   ]
  },
  {
   "cell_type": "code",
   "execution_count": 3,
   "metadata": {},
   "outputs": [
    {
     "data": {
      "text/plain": [
       "2"
      ]
     },
     "execution_count": 3,
     "metadata": {},
     "output_type": "execute_result"
    }
   ],
   "source": [
    "def binary_search(l: list, value):\n",
    "    low = 0\n",
    "    high = len(l) - 1\n",
    "    while low <= high:\n",
    "        mid = (low + high) // 2\n",
    "        if l[mid] == value:\n",
    "            return mid\n",
    "        elif l[mid] < value:\n",
    "            low = mid + 1\n",
    "        else:\n",
    "            high = mid - 1\n",
    "    return -1\n",
    "\n",
    "\n",
    "binary_search([1, 2, 3, 4, 5], 3)"
   ]
  },
  {
   "attachments": {},
   "cell_type": "markdown",
   "metadata": {},
   "source": [
    "### Searching for a Pattern"
   ]
  },
  {
   "attachments": {},
   "cell_type": "markdown",
   "metadata": {},
   "source": [
    "#### Brute-force"
   ]
  },
  {
   "cell_type": "code",
   "execution_count": 4,
   "metadata": {},
   "outputs": [
    {
     "data": {
      "text/plain": [
       "6"
      ]
     },
     "execution_count": 4,
     "metadata": {},
     "output_type": "execute_result"
    }
   ],
   "source": [
    "def search_pattern(s: str, p: str):\n",
    "    # Loop over all possible starting positions\n",
    "    for i in range(len(s) - len(p) + 1):\n",
    "        # Check if the current position matches the pattern\n",
    "        if s[i:i+len(p)] == p:\n",
    "            return i\n",
    "    return -1\n",
    "\n",
    "\n",
    "search_pattern(\"hello world\", \"world\")"
   ]
  },
  {
   "attachments": {},
   "cell_type": "markdown",
   "metadata": {},
   "source": [
    "## Sorting Algorithms"
   ]
  },
  {
   "attachments": {},
   "cell_type": "markdown",
   "metadata": {},
   "source": [
    "### Selection Sort\n",
    "\n",
    "Time complexity: O(n^2)"
   ]
  },
  {
   "cell_type": "code",
   "execution_count": 5,
   "metadata": {},
   "outputs": [
    {
     "data": {
      "text/plain": [
       "[1, 2, 3, 4, 5]"
      ]
     },
     "execution_count": 5,
     "metadata": {},
     "output_type": "execute_result"
    }
   ],
   "source": [
    "def selection_sort(l: list):\n",
    "    # For each element in the list\n",
    "    for i in range(len(l)):\n",
    "        # Assume the first element is the smallest\n",
    "        min_index = i\n",
    "        # Check every element following the assumed smallest\n",
    "        for j in range(i, len(l)):\n",
    "            # If an element is smaller than the assumed smallest\n",
    "            if l[j] < l[min_index]:\n",
    "                # This is the new smallest element\n",
    "                min_index = j\n",
    "        # Swap the smallest element with the first element\n",
    "        l[i], l[min_index] = l[min_index], l[i]\n",
    "\n",
    "\n",
    "l = [5, 4, 3, 2, 1]\n",
    "selection_sort(l)\n",
    "l"
   ]
  },
  {
   "attachments": {},
   "cell_type": "markdown",
   "metadata": {},
   "source": [
    "### Bubble Sort\n",
    "\n",
    "Time complexity: O(n^2)"
   ]
  },
  {
   "cell_type": "code",
   "execution_count": 6,
   "metadata": {},
   "outputs": [
    {
     "data": {
      "text/plain": [
       "[1, 2, 3, 4, 5]"
      ]
     },
     "execution_count": 6,
     "metadata": {},
     "output_type": "execute_result"
    }
   ],
   "source": [
    "def bubble_sort(l: list):\n",
    "    # For each element in the list\n",
    "    for i in range(len(l)):\n",
    "        # For each element following the first element\n",
    "        for j in range(1, len(l)):\n",
    "            # If the element is smaller than the previous element\n",
    "            if l[j] < l[j-1]:\n",
    "                # Swap the elements\n",
    "                l[j], l[j-1] = l[j-1], l[j]\n",
    "\n",
    "\n",
    "l = [5, 4, 3, 2, 1]\n",
    "bubble_sort(l)\n",
    "l"
   ]
  },
  {
   "attachments": {},
   "cell_type": "markdown",
   "metadata": {},
   "source": [
    "### Insertion Sort\n",
    "\n",
    "Time complexity: O(n^2)"
   ]
  },
  {
   "cell_type": "code",
   "execution_count": 7,
   "metadata": {},
   "outputs": [
    {
     "data": {
      "text/plain": [
       "[1, 2, 3, 4, 5]"
      ]
     },
     "execution_count": 7,
     "metadata": {},
     "output_type": "execute_result"
    }
   ],
   "source": [
    "def insertion_sort(l: list):\n",
    "    # Go through each element in the list\n",
    "    for i in range(1, len(l)):\n",
    "        # Save the element we are going to insert\n",
    "        key = l[i]\n",
    "        # Find the position in the sorted part of the list to insert the key\n",
    "        pos = 0\n",
    "        while l[pos] < key and pos < i:\n",
    "            pos += 1\n",
    "        # Shift all elements in the sorted part of the list that are greater than the key\n",
    "        # to the right by one space\n",
    "        for j in range(i, pos, -1):\n",
    "            l[j] = l[j-1]\n",
    "        # Insert the key into the sorted part of the list\n",
    "        l[pos] = key\n",
    "\n",
    "\n",
    "l = [5, 4, 3, 2, 1]\n",
    "insertion_sort(l)\n",
    "l"
   ]
  },
  {
   "attachments": {},
   "cell_type": "markdown",
   "metadata": {},
   "source": [
    "## Exponential Time Algorithms"
   ]
  },
  {
   "attachments": {},
   "cell_type": "markdown",
   "metadata": {},
   "source": [
    "### Traveling Salesman Problem (also known as Hamiltonian Circuit)"
   ]
  },
  {
   "cell_type": "code",
   "execution_count": null,
   "metadata": {},
   "outputs": [],
   "source": []
  },
  {
   "attachments": {},
   "cell_type": "markdown",
   "metadata": {},
   "source": [
    "### Knapsack Problem"
   ]
  },
  {
   "cell_type": "code",
   "execution_count": null,
   "metadata": {},
   "outputs": [],
   "source": []
  },
  {
   "attachments": {},
   "cell_type": "markdown",
   "metadata": {},
   "source": [
    "## Exercises"
   ]
  },
  {
   "cell_type": "code",
   "execution_count": null,
   "metadata": {},
   "outputs": [],
   "source": []
  }
 ],
 "metadata": {
  "kernelspec": {
   "display_name": "base",
   "language": "python",
   "name": "python3"
  },
  "language_info": {
   "codemirror_mode": {
    "name": "ipython",
    "version": 3
   },
   "file_extension": ".py",
   "mimetype": "text/x-python",
   "name": "python",
   "nbconvert_exporter": "python",
   "pygments_lexer": "ipython3",
   "version": "3.9.16"
  },
  "orig_nbformat": 4,
  "vscode": {
   "interpreter": {
    "hash": "70620ca940e9b0ba65c9ea2cb274b1eb89e34cd87f790324a9871f60d6f2153a"
   }
  }
 },
 "nbformat": 4,
 "nbformat_minor": 2
}
