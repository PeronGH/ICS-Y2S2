{
 "cells": [
  {
   "cell_type": "code",
   "execution_count": 1,
   "metadata": {},
   "outputs": [],
   "source": [
    "from typing import List\n"
   ]
  },
  {
   "cell_type": "code",
   "execution_count": 2,
   "metadata": {},
   "outputs": [
    {
     "name": "stdout",
     "output_type": "stream",
     "text": [
      "The 10th Fibonacci number is 55\n"
     ]
    }
   ],
   "source": [
    "def fibonacci_top_down(n, memo=None):\n",
    "    if memo is None:\n",
    "        memo = {}\n",
    "\n",
    "    if n == 0:\n",
    "        return 0\n",
    "    elif n == 1:\n",
    "        return 1\n",
    "    elif n not in memo:\n",
    "        memo[n] = fibonacci_top_down(n-1, memo) + fibonacci_top_down(n-2, memo)\n",
    "\n",
    "    return memo[n]\n",
    "\n",
    "\n",
    "n = 10\n",
    "print(f\"The {n}th Fibonacci number is {fibonacci_top_down(n)}\")\n"
   ]
  },
  {
   "cell_type": "code",
   "execution_count": 3,
   "metadata": {},
   "outputs": [
    {
     "name": "stdout",
     "output_type": "stream",
     "text": [
      "The 10th Fibonacci number is 55\n"
     ]
    }
   ],
   "source": [
    "def fibonacci_bottom_up(n):\n",
    "    if n == 0:\n",
    "        return 0\n",
    "    elif n == 1:\n",
    "        return 1\n",
    "\n",
    "    fib = [0] * (n + 1)\n",
    "    fib[0], fib[1] = 0, 1\n",
    "\n",
    "    for i in range(2, n + 1):\n",
    "        fib[i] = fib[i - 1] + fib[i - 2]\n",
    "\n",
    "    return fib[n]\n",
    "\n",
    "\n",
    "n = 10\n",
    "print(f\"The {n}th Fibonacci number is {fibonacci_bottom_up(n)}\")\n"
   ]
  },
  {
   "attachments": {},
   "cell_type": "markdown",
   "metadata": {},
   "source": [
    "## Exercise\n",
    "\n",
    "### Problem: Coin Change\n",
    "\n",
    "Given an integer array representing coins of different denominations and a total amount of money, find the fewest number of coins needed to make up that amount. If it's not possible to make the amount using the given coin denominations, return -1.\n",
    "\n",
    "Function Signature:\n",
    "\n",
    "```python\n",
    "def coin_change(coins: List[int], amount: int) -> int:\n",
    "```\n",
    "\n",
    "Input:\n",
    "\n",
    "-   coins: A list of integers where 1 <= len(coins) <= 12 and 1 <= coins[i] <= 2^31 - 1, representing the coin denominations available.\n",
    "-   amount: An integer where 0 <= amount <= 10^4, representing the target amount of money.\n",
    "\n",
    "Output:\n",
    "\n",
    "-   Return an integer representing the fewest number of coins needed to make up the given amount. If it's not possible to make the amount using the given coin denominations, return -1.\n",
    "\n",
    "Example Test Cases:\n",
    "\n",
    "1. Input: coins = [1, 2, 5] amount = 11 Output: 3 Explanation: 11 = 5 + 5 + 1, so the fewest number of coins needed is 3.\n",
    "\n",
    "2. Input: coins = [2] amount = 3 Output: -1 Explanation: There is no combination of coins that can sum up to 3, so the output is -1.\n"
   ]
  },
  {
   "cell_type": "code",
   "execution_count": 4,
   "metadata": {},
   "outputs": [
    {
     "name": "stdout",
     "output_type": "stream",
     "text": [
      "3\n",
      "-1\n",
      "2\n"
     ]
    }
   ],
   "source": [
    "def coin_change_top_down(coins: List[int], amount: int, memo=None) -> int:\n",
    "    if memo is None:\n",
    "        memo = {}\n",
    "    \n",
    "    if amount == 0:\n",
    "        return 0\n",
    "    if amount < 0:\n",
    "        return -1\n",
    "    if amount in memo:\n",
    "        return memo[amount]\n",
    "    \n",
    "    min_coins = float('inf')\n",
    "    for coin in coins:\n",
    "        coins_needed = coin_change_top_down(coins, amount - coin, memo)\n",
    "        if coins_needed != -1:\n",
    "            min_coins = min(min_coins, coins_needed + 1)\n",
    "    \n",
    "    memo[amount] = -1 if min_coins == float('inf') else min_coins\n",
    "    return memo[amount]\n",
    "\n",
    "\n",
    "print(coin_change_top_down([1, 2, 5], 11))\n",
    "print(coin_change_top_down([2], 3))\n",
    "print(coin_change_top_down([1, 4, 5], 8))\n"
   ]
  },
  {
   "cell_type": "code",
   "execution_count": 5,
   "metadata": {},
   "outputs": [
    {
     "name": "stdout",
     "output_type": "stream",
     "text": [
      "3\n",
      "-1\n",
      "2\n"
     ]
    }
   ],
   "source": [
    "def coin_change_bottom_up(coins: List[int], amount: int) -> int:\n",
    "    dp = [float('inf')] * (amount + 1)\n",
    "    dp[0] = 0\n",
    "    \n",
    "    for coin in coins:\n",
    "        for i in range(coin, amount + 1):\n",
    "            dp[i] = min(dp[i], dp[i - coin] + 1)\n",
    "    \n",
    "    return int(dp[amount]) if dp[amount] != float('inf') else -1\n",
    "\n",
    "\n",
    "print(coin_change_bottom_up([1, 2, 5], 11))\n",
    "print(coin_change_bottom_up([2], 3))\n",
    "print(coin_change_top_down([1, 4, 5], 8))\n"
   ]
  }
 ],
 "metadata": {
  "kernelspec": {
   "display_name": "Python 3",
   "language": "python",
   "name": "python3"
  },
  "language_info": {
   "codemirror_mode": {
    "name": "ipython",
    "version": 3
   },
   "file_extension": ".py",
   "mimetype": "text/x-python",
   "name": "python",
   "nbconvert_exporter": "python",
   "pygments_lexer": "ipython3",
   "version": "3.11.2"
  },
  "orig_nbformat": 4
 },
 "nbformat": 4,
 "nbformat_minor": 2
}
