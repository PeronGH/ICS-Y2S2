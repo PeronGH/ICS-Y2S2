{
 "cells": [
  {
   "attachments": {},
   "cell_type": "markdown",
   "metadata": {},
   "source": [
    "# Divide and Conquer"
   ]
  },
  {
   "attachments": {},
   "cell_type": "markdown",
   "metadata": {},
   "source": [
    "Idea:\n",
    "- A problem instance is divided into several smaller instances of the same problem, ideally of about same size\n",
    "- The smaller instances are solved, typically recursively\n",
    "- The solutions for the smaller instances are combined to get a solution to the original problem"
   ]
  }
 ],
 "metadata": {
  "language_info": {
   "name": "python"
  },
  "orig_nbformat": 4
 },
 "nbformat": 4,
 "nbformat_minor": 2
}
