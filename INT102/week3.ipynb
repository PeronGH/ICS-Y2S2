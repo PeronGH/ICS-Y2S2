{
 "cells": [
  {
   "attachments": {},
   "cell_type": "markdown",
   "metadata": {},
   "source": [
    "## Divide and Conquer"
   ]
  },
  {
   "attachments": {},
   "cell_type": "markdown",
   "metadata": {},
   "source": [
    "Idea:\n",
    "- A problem instance is divided into several smaller instances of the same problem, ideally of about same size\n",
    "- The smaller instances are solved, typically recursively\n",
    "- The solutions for the smaller instances are combined to get a solution to the original problem"
   ]
  },
  {
   "attachments": {},
   "cell_type": "markdown",
   "metadata": {},
   "source": [
    "### Example: Binary Search"
   ]
  },
  {
   "cell_type": "code",
   "execution_count": 1,
   "metadata": {},
   "outputs": [
    {
     "data": {
      "text/plain": [
       "True"
      ]
     },
     "execution_count": 1,
     "metadata": {},
     "output_type": "execute_result"
    }
   ],
   "source": [
    "from typing import List\n",
    "\n",
    "\n",
    "def binary_search(arr: List[int], start: int, end: int, target: int) -> bool:\n",
    "    \"\"\"\n",
    "    Perform binary search on a sorted array.\n",
    "\n",
    "    Args:\n",
    "        arr: A sorted list of integers.\n",
    "        start: The starting index of the subarray to search in.\n",
    "        end: The ending index of the subarray to search in.\n",
    "        target: The value to search for in the array.\n",
    "\n",
    "    Returns:\n",
    "        True if the target is found in the array, False otherwise.\n",
    "    \"\"\"\n",
    "    # If the start index is greater than the end index, the target is not in the array.\n",
    "    if start > end:\n",
    "        return False\n",
    "\n",
    "    # Calculate the midpoint index.\n",
    "    mid = (start + end) // 2\n",
    "\n",
    "    # If the target is found at the midpoint index, return True.\n",
    "    if target == arr[mid]:\n",
    "        return True\n",
    "\n",
    "    # If the target is less than the value at the midpoint index, search the left half of the subarray.\n",
    "    if target < arr[mid]:\n",
    "        return binary_search(arr, start, mid - 1, target)\n",
    "    # If the target is greater than the value at the midpoint index, search the right half of the subarray.\n",
    "    else:\n",
    "        return binary_search(arr, mid + 1, end, target)\n",
    "\n",
    "\n",
    "binary_search([1, 2, 3, 4, 5], 0, 4, 3)\n"
   ]
  },
  {
   "attachments": {},
   "cell_type": "markdown",
   "metadata": {},
   "source": [
    "### Example: Merge Sort"
   ]
  },
  {
   "cell_type": "code",
   "execution_count": 2,
   "metadata": {},
   "outputs": [
    {
     "data": {
      "text/plain": [
       "[1, 2, 3, 4, 5]"
      ]
     },
     "execution_count": 2,
     "metadata": {},
     "output_type": "execute_result"
    }
   ],
   "source": [
    "def merge(left: List[int], right: List[int]) -> List[int]:\n",
    "    \"\"\"\n",
    "    Merge two sorted arrays into a single sorted array.\n",
    "\n",
    "    Args:\n",
    "        left: A sorted list of integers.\n",
    "        right: A sorted list of integers.\n",
    "\n",
    "    Returns:\n",
    "        A new sorted list containing all elements from both input lists.\n",
    "    \"\"\"\n",
    "    result = []\n",
    "    i, j = 0, 0\n",
    "\n",
    "    while i < len(left) and j < len(right):\n",
    "        if left[i] <= right[j]:\n",
    "            result.append(left[i])\n",
    "            i += 1\n",
    "        else:\n",
    "            result.append(right[j])\n",
    "            j += 1\n",
    "\n",
    "    result += left[i:]\n",
    "    result += right[j:]\n",
    "\n",
    "    return result\n",
    "\n",
    "\n",
    "def merge_sort(arr: List[int]) -> List[int]:\n",
    "    \"\"\"\n",
    "    Sort a list of integers using the merge sort algorithm.\n",
    "\n",
    "    Args:\n",
    "        arr: A list of integers to sort.\n",
    "\n",
    "    Returns:\n",
    "        A new sorted list containing all elements from the input list.\n",
    "    \"\"\"\n",
    "    if len(arr) <= 1:\n",
    "        return arr\n",
    "\n",
    "    # Divide the array into two halves.\n",
    "    mid = len(arr) // 2\n",
    "    left = arr[:mid]\n",
    "    right = arr[mid:]\n",
    "\n",
    "    # Recursively sort each half.\n",
    "    left = merge_sort(left)\n",
    "    right = merge_sort(right)\n",
    "\n",
    "    # Merge the sorted halves.\n",
    "    return merge(left, right)\n",
    "\n",
    "\n",
    "merge_sort([5, 4, 3, 2, 1])\n"
   ]
  },
  {
   "attachments": {},
   "cell_type": "markdown",
   "metadata": {},
   "source": [
    "## Graph"
   ]
  },
  {
   "attachments": {},
   "cell_type": "markdown",
   "metadata": {},
   "source": [
    "### 2 Types of Graphs\n",
    "\n",
    "- Undirected Graph\n",
    "- Directed Graph"
   ]
  },
  {
   "cell_type": "code",
   "execution_count": 11,
   "metadata": {},
   "outputs": [
    {
     "name": "stdout",
     "output_type": "stream",
     "text": [
      "(NodeView((0, 1, 2, 3, 4, 5)), EdgeView([(0, 3), (0, 5), (0, 2), (0, 1), (1, 3), (1, 2), (1, 5), (2, 5), (2, 3), (3, 5)]))\n"
     ]
    },
    {
     "data": {
      "image/png": "[encoded data removed]",
      "text/plain": [
       "<Figure size 640x480 with 1 Axes>"
      ]
     },
     "metadata": {},
     "output_type": "display_data"
    }
   ],
   "source": [
    "import networkx as nx\n",
    "import matplotlib.pyplot as plt\n",
    "\n",
    "# create a random graph with 6 nodes and 10 edges\n",
    "undirectedGraph = nx.gnm_random_graph(6, 10)\n",
    "\n",
    "# print its annotations in the form of G = (V, E)\n",
    "print((undirectedGraph.nodes, undirectedGraph.edges))\n",
    "\n",
    "# draw the graph\n",
    "nx.draw(undirectedGraph, with_labels=True)\n",
    "plt.show()\n"
   ]
  },
  {
   "cell_type": "code",
   "execution_count": null,
   "metadata": {},
   "outputs": [
    {
     "name": "stdout",
     "output_type": "stream",
     "text": [
      "(NodeView((0, 1, 2, 3, 4, 5)), OutEdgeView([(0, 5), (1, 2), (1, 0), (2, 4), (2, 3), (3, 1), (3, 2), (4, 2), (5, 3), (5, 0)]))\n"
     ]
    },
    {
     "data": {
      "image/png": "[encoded data removed]",
      "text/plain": [
       "<Figure size 640x480 with 1 Axes>"
      ]
     },
     "metadata": {},
     "output_type": "display_data"
    }
   ],
   "source": [
    "directedGraph = nx.gnm_random_graph(6, 10, directed=True)\n",
    "\n",
    "print((directedGraph.nodes, directedGraph.edges))\n",
    "\n",
    "nx.draw(directedGraph, with_labels=True)\n",
    "plt.show()\n"
   ]
  },
  {
   "attachments": {},
   "cell_type": "markdown",
   "metadata": {},
   "source": [
    "### 3 Types of Undirected Graphs\n",
    "\n",
    "- Simple Graph: No self-loops or parallel edges\n",
    "- Multigraph: No self-loops, but parallel edges are allowed\n",
    "- Pseudograph: Self-loops and parallel edges are allowed"
   ]
  },
  {
   "cell_type": "code",
   "execution_count": 9,
   "metadata": {},
   "outputs": [
    {
     "data": {
      "image/png": "[encoded data removed]",
      "text/plain": [
       "<Figure size 640x480 with 1 Axes>"
      ]
     },
     "metadata": {},
     "output_type": "display_data"
    }
   ],
   "source": [
    "exampleGraph = nx.Graph()\n",
    "\n",
    "exampleGraph.add_nodes_from(['u', 'v'])\n",
    "exampleGraph.add_edge('u', 'v')\n",
    "exampleGraph.add_edge('u', 'u')\n",
    "\n",
    "nx.draw(exampleGraph, with_labels=True)\n",
    "plt.show()\n"
   ]
  },
  {
   "attachments": {},
   "cell_type": "markdown",
   "metadata": {},
   "source": [
    "### Terms related to Graphs\n",
    "\n",
    "- Vertex: A node in a graph\n",
    "- Edge: A connection between two vertices\n",
    "- Degree: The number of edges connected to a vertex, denoted by $deg(v)$\n",
    "- (u, v) is said to be incident to both u and v\n",
    "- u and v are called endpoints of (u, v)\n",
    "- u and v are said to be adjacent, aka neighbors"
   ]
  },
  {
   "cell_type": "code",
   "execution_count": 13,
   "metadata": {},
   "outputs": [
    {
     "name": "stdout",
     "output_type": "stream",
     "text": [
      "[[0 1 1]\n",
      " [1 0 1]\n",
      " [1 1 0]]\n"
     ]
    }
   ],
   "source": [
    "# create a graph\n",
    "G = nx.Graph()\n",
    "G.add_edges_from([(1, 2), (1, 3), (2, 3)])\n",
    "\n",
    "# convert to adjacency matrix\n",
    "A = nx.adjacency_matrix(G)\n",
    "\n",
    "# print the adjacency matrix\n",
    "print(A.todense())\n"
   ]
  },
  {
   "cell_type": "code",
   "execution_count": 14,
   "metadata": {},
   "outputs": [
    {
     "name": "stdout",
     "output_type": "stream",
     "text": [
      "{1: [2, 3], 2: [1, 3], 3: [1, 2]}\n"
     ]
    }
   ],
   "source": [
    "# convert to adjacency list\n",
    "adj_list = nx.to_dict_of_lists(G)\n",
    "\n",
    "# print the adjacency list\n",
    "print(adj_list)\n"
   ]
  },
  {
   "cell_type": "code",
   "execution_count": 15,
   "metadata": {},
   "outputs": [
    {
     "name": "stdout",
     "output_type": "stream",
     "text": [
      "[[-1. -1.  0.]\n",
      " [ 1.  0. -1.]\n",
      " [ 0.  1.  1.]]\n"
     ]
    }
   ],
   "source": [
    "# convert to incidence matrix\n",
    "B = nx.incidence_matrix(G, oriented=True)\n",
    "\n",
    "# print the incidence matrix\n",
    "print(B.todense())\n"
   ]
  },
  {
   "cell_type": "code",
   "execution_count": 18,
   "metadata": {},
   "outputs": [
    {
     "name": "stdout",
     "output_type": "stream",
     "text": [
      "{1: [1, 1, 0], 2: [-1, 0, 1], 3: [0, -1, -1]}\n"
     ]
    }
   ],
   "source": [
    "# convert to incidence list\n",
    "edge_list = [*G.edges]\n",
    "inc_list = {u: [0] * len(edge_list) for u in G.nodes}\n",
    "for i, (u, v) in enumerate(edge_list):\n",
    "    inc_list[u][i] = 1\n",
    "    inc_list[v][i] = -1\n",
    "\n",
    "# print the incidence list\n",
    "print(inc_list)"
   ]
  }
 ],
 "metadata": {
  "kernelspec": {
   "display_name": "Python 3",
   "language": "python",
   "name": "python3"
  },
  "language_info": {
   "codemirror_mode": {
    "name": "ipython",
    "version": 3
   },
   "file_extension": ".py",
   "mimetype": "text/x-python",
   "name": "python",
   "nbconvert_exporter": "python",
   "pygments_lexer": "ipython3",
   "version": "3.9.16"
  },
  "orig_nbformat": 4
 },
 "nbformat": 4,
 "nbformat_minor": 2
}
