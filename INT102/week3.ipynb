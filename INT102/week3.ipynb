{
 "cells": [
  {
   "attachments": {},
   "cell_type": "markdown",
   "metadata": {},
   "source": [
    "## Divide and Conquer"
   ]
  },
  {
   "attachments": {},
   "cell_type": "markdown",
   "metadata": {},
   "source": [
    "Idea:\n",
    "- A problem instance is divided into several smaller instances of the same problem, ideally of about same size\n",
    "- The smaller instances are solved, typically recursively\n",
    "- The solutions for the smaller instances are combined to get a solution to the original problem"
   ]
  },
  {
   "attachments": {},
   "cell_type": "markdown",
   "metadata": {},
   "source": [
    "### Example: Binary Search"
   ]
  },
  {
   "cell_type": "code",
   "execution_count": 7,
   "metadata": {},
   "outputs": [
    {
     "data": {
      "text/plain": [
       "True"
      ]
     },
     "execution_count": 7,
     "metadata": {},
     "output_type": "execute_result"
    }
   ],
   "source": [
    "from typing import List\n",
    "\n",
    "\n",
    "def binary_search(arr: List[int], start: int, end: int, target: int) -> bool:\n",
    "    \"\"\"\n",
    "    Perform binary search on a sorted array.\n",
    "\n",
    "    Args:\n",
    "        arr: A sorted list of integers.\n",
    "        start: The starting index of the subarray to search in.\n",
    "        end: The ending index of the subarray to search in.\n",
    "        target: The value to search for in the array.\n",
    "\n",
    "    Returns:\n",
    "        True if the target is found in the array, False otherwise.\n",
    "    \"\"\"\n",
    "    # If the start index is greater than the end index, the target is not in the array.\n",
    "    if start > end:\n",
    "        return False\n",
    "\n",
    "    # Calculate the midpoint index.\n",
    "    mid = (start + end) // 2\n",
    "\n",
    "    # If the target is found at the midpoint index, return True.\n",
    "    if target == arr[mid]:\n",
    "        return True\n",
    "\n",
    "    # If the target is less than the value at the midpoint index, search the left half of the subarray.\n",
    "    if target < arr[mid]:\n",
    "        return binary_search(arr, start, mid - 1, target)\n",
    "    # If the target is greater than the value at the midpoint index, search the right half of the subarray.\n",
    "    else:\n",
    "        return binary_search(arr, mid + 1, end, target)\n",
    "\n",
    "\n",
    "binary_search([1, 2, 3, 4, 5], 0, 4, 3)\n"
   ]
  },
  {
   "attachments": {},
   "cell_type": "markdown",
   "metadata": {},
   "source": [
    "### Example: Merge Sort"
   ]
  },
  {
   "cell_type": "code",
   "execution_count": 8,
   "metadata": {},
   "outputs": [
    {
     "data": {
      "text/plain": [
       "[1, 2, 3, 4, 5]"
      ]
     },
     "execution_count": 8,
     "metadata": {},
     "output_type": "execute_result"
    }
   ],
   "source": [
    "def merge(left: List[int], right: List[int]) -> List[int]:\n",
    "    \"\"\"\n",
    "    Merge two sorted arrays into a single sorted array.\n",
    "\n",
    "    Args:\n",
    "        left: A sorted list of integers.\n",
    "        right: A sorted list of integers.\n",
    "\n",
    "    Returns:\n",
    "        A new sorted list containing all elements from both input lists.\n",
    "    \"\"\"\n",
    "    result = []\n",
    "    i, j = 0, 0\n",
    "\n",
    "    while i < len(left) and j < len(right):\n",
    "        if left[i] <= right[j]:\n",
    "            result.append(left[i])\n",
    "            i += 1\n",
    "        else:\n",
    "            result.append(right[j])\n",
    "            j += 1\n",
    "\n",
    "    result += left[i:]\n",
    "    result += right[j:]\n",
    "\n",
    "    return result\n",
    "\n",
    "\n",
    "def merge_sort(arr: List[int]) -> List[int]:\n",
    "    \"\"\"\n",
    "    Sort a list of integers using the merge sort algorithm.\n",
    "\n",
    "    Args:\n",
    "        arr: A list of integers to sort.\n",
    "\n",
    "    Returns:\n",
    "        A new sorted list containing all elements from the input list.\n",
    "    \"\"\"\n",
    "    if len(arr) <= 1:\n",
    "        return arr\n",
    "\n",
    "    # Divide the array into two halves.\n",
    "    mid = len(arr) // 2\n",
    "    left = arr[:mid]\n",
    "    right = arr[mid:]\n",
    "\n",
    "    # Recursively sort each half.\n",
    "    left = merge_sort(left)\n",
    "    right = merge_sort(right)\n",
    "\n",
    "    # Merge the sorted halves.\n",
    "    return merge(left, right)\n",
    "\n",
    "\n",
    "merge_sort([5, 4, 3, 2, 1])\n"
   ]
  }
 ],
 "metadata": {
  "kernelspec": {
   "display_name": "Python 3",
   "language": "python",
   "name": "python3"
  },
  "language_info": {
   "codemirror_mode": {
    "name": "ipython",
    "version": 3
   },
   "file_extension": ".py",
   "mimetype": "text/x-python",
   "name": "python",
   "nbconvert_exporter": "python",
   "pygments_lexer": "ipython3",
   "version": "3.9.16"
  },
  "orig_nbformat": 4
 },
 "nbformat": 4,
 "nbformat_minor": 2
}
